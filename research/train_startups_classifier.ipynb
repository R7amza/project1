{
 "cells": [
  {
   "cell_type": "code",
   "execution_count": 1,
   "id": "d5349bee",
   "metadata": {},
   "outputs": [],
   "source": [
    "#pip install numpy pandas sklearn joblib"
   ]
  },
  {
   "cell_type": "code",
   "execution_count": 2,
   "id": "dc93df0d",
   "metadata": {},
   "outputs": [],
   "source": [
    "import json # will be needed for saving preprocessing details\n",
    "import numpy as np # for data manipulation\n",
    "import pandas as pd # for data manipulation\n",
    "from sklearn.model_selection import train_test_split # will be used for data split\n",
    "from sklearn.preprocessing import LabelEncoder # for preprocessing\n",
    "import joblib # for saving algorithm and preprocessing objects"
   ]
  },
  {
   "cell_type": "code",
   "execution_count": 3,
   "id": "6b1aaa37",
   "metadata": {},
   "outputs": [],
   "source": [
    "import statistics\n",
    "from scipy import stats\n",
    "from dmba import plotDecisionTree, classificationSummary, regressionSummary\n",
    "from imblearn.over_sampling import SMOTE\n",
    "from collections import Counter\n",
    "from array import array\n",
    "from sklearn import preprocessing, svm , metrics , tree\n",
    "from sklearn.model_selection import train_test_split , cross_val_score , GridSearchCV\n",
    "from sklearn.datasets import make_classification\n",
    "from sklearn.preprocessing import StandardScaler\n",
    "from xgboost import XGBClassifier\n",
    "import warnings\n",
    "warnings.filterwarnings('ignore')"
   ]
  },
  {
   "cell_type": "code",
   "execution_count": 4,
   "id": "80fe755c",
   "metadata": {
    "scrolled": true
   },
   "outputs": [],
   "source": [
    "# load dataset\n",
    "df = pd.read_csv('https://raw.githubusercontent.com/R7amza/project1/R7amza-patch-2/11111.csv', skipinitialspace=True)\n",
    "df.set_index('Organization_Name', inplace=True)"
   ]
  },
  {
   "cell_type": "code",
   "execution_count": 5,
   "id": "4ef7dc29",
   "metadata": {},
   "outputs": [],
   "source": [
    "df = df.drop(columns = ['Description', 'Funding_Status', 'Industries', 'Downloads_Last_30_Days', 'Number_of_Apps'])\n",
    "df = df.query('Founded_Date >2014')\n",
    "df[\"Bounce_Rate\"] = df[\"Bounce_Rate\"].str.rstrip(\"%\").astype(float)\n",
    "df[\"Monthly_Visits_Growth\"] = df[\"Monthly_Visits_Growth\"].str.rstrip(\"%\").astype(float)"
   ]
  },
  {
   "cell_type": "code",
   "execution_count": 6,
   "id": "59165e6b",
   "metadata": {},
   "outputs": [
    {
     "data": {
      "text/html": [
       "<div>\n",
       "<style scoped>\n",
       "    .dataframe tbody tr th:only-of-type {\n",
       "        vertical-align: middle;\n",
       "    }\n",
       "\n",
       "    .dataframe tbody tr th {\n",
       "        vertical-align: top;\n",
       "    }\n",
       "\n",
       "    .dataframe thead th {\n",
       "        text-align: right;\n",
       "    }\n",
       "</style>\n",
       "<table border=\"1\" class=\"dataframe\">\n",
       "  <thead>\n",
       "    <tr style=\"text-align: right;\">\n",
       "      <th></th>\n",
       "      <th>Estimated_Revenue_Range</th>\n",
       "      <th>Total_Funding_Amount</th>\n",
       "      <th>Headquarters_Location</th>\n",
       "      <th>Founded_Date</th>\n",
       "      <th>Number_of_Founders</th>\n",
       "      <th>Funding_Stage</th>\n",
       "      <th>Number_Funding_Rounds</th>\n",
       "      <th>Number_of_Investors</th>\n",
       "      <th>Industry_Groups</th>\n",
       "      <th>Sector_Size</th>\n",
       "      <th>Number_of_Employees</th>\n",
       "      <th>Visit_Duration</th>\n",
       "      <th>Bounce_Rate</th>\n",
       "      <th>Monthly_Visits</th>\n",
       "      <th>Monthly_Visits_Growth</th>\n",
       "      <th>Exit_status</th>\n",
       "    </tr>\n",
       "    <tr>\n",
       "      <th>Organization_Name</th>\n",
       "      <th></th>\n",
       "      <th></th>\n",
       "      <th></th>\n",
       "      <th></th>\n",
       "      <th></th>\n",
       "      <th></th>\n",
       "      <th></th>\n",
       "      <th></th>\n",
       "      <th></th>\n",
       "      <th></th>\n",
       "      <th></th>\n",
       "      <th></th>\n",
       "      <th></th>\n",
       "      <th></th>\n",
       "      <th></th>\n",
       "      <th></th>\n",
       "    </tr>\n",
       "  </thead>\n",
       "  <tbody>\n",
       "    <tr>\n",
       "      <th>Nana</th>\n",
       "      <td>5500000.0</td>\n",
       "      <td>78959999.0</td>\n",
       "      <td>Riyad</td>\n",
       "      <td>2020</td>\n",
       "      <td>2.0</td>\n",
       "      <td>Undisclosed</td>\n",
       "      <td>6.0</td>\n",
       "      <td>12.0</td>\n",
       "      <td>Food Delivery</td>\n",
       "      <td>42000000000</td>\n",
       "      <td>376</td>\n",
       "      <td>561.0</td>\n",
       "      <td>58.0</td>\n",
       "      <td>80887.0</td>\n",
       "      <td>-30.0</td>\n",
       "      <td>0</td>\n",
       "    </tr>\n",
       "    <tr>\n",
       "      <th>Retailo Technologies</th>\n",
       "      <td>NaN</td>\n",
       "      <td>45000000.0</td>\n",
       "      <td>Riyad</td>\n",
       "      <td>2020</td>\n",
       "      <td>3.0</td>\n",
       "      <td>Series A</td>\n",
       "      <td>4.0</td>\n",
       "      <td>13.0</td>\n",
       "      <td>E-Commerce</td>\n",
       "      <td>13000000000</td>\n",
       "      <td>751</td>\n",
       "      <td>652.0</td>\n",
       "      <td>66.0</td>\n",
       "      <td>22598.0</td>\n",
       "      <td>1357.0</td>\n",
       "      <td>0</td>\n",
       "    </tr>\n",
       "    <tr>\n",
       "      <th>Lean Technologies</th>\n",
       "      <td>5500000.0</td>\n",
       "      <td>36500000.0</td>\n",
       "      <td>Riyad</td>\n",
       "      <td>2019</td>\n",
       "      <td>3.0</td>\n",
       "      <td>Series A</td>\n",
       "      <td>4.0</td>\n",
       "      <td>13.0</td>\n",
       "      <td>Financial Services</td>\n",
       "      <td>13000000000</td>\n",
       "      <td>31</td>\n",
       "      <td>102.0</td>\n",
       "      <td>87.0</td>\n",
       "      <td>6677.0</td>\n",
       "      <td>-45.0</td>\n",
       "      <td>0</td>\n",
       "    </tr>\n",
       "    <tr>\n",
       "      <th>Sary</th>\n",
       "      <td>300000000.0</td>\n",
       "      <td>111957478.0</td>\n",
       "      <td>Riyad</td>\n",
       "      <td>2018</td>\n",
       "      <td>2.0</td>\n",
       "      <td>Series C</td>\n",
       "      <td>4.0</td>\n",
       "      <td>12.0</td>\n",
       "      <td>E-Commerce</td>\n",
       "      <td>13000000000</td>\n",
       "      <td>376</td>\n",
       "      <td>2567.0</td>\n",
       "      <td>40.0</td>\n",
       "      <td>25286.0</td>\n",
       "      <td>258.0</td>\n",
       "      <td>0</td>\n",
       "    </tr>\n",
       "    <tr>\n",
       "      <th>Tamara</th>\n",
       "      <td>NaN</td>\n",
       "      <td>116000000.0</td>\n",
       "      <td>Riyad</td>\n",
       "      <td>2020</td>\n",
       "      <td>3.0</td>\n",
       "      <td>Series A</td>\n",
       "      <td>4.0</td>\n",
       "      <td>9.0</td>\n",
       "      <td>Financial Services</td>\n",
       "      <td>13000000000</td>\n",
       "      <td>76</td>\n",
       "      <td>347.0</td>\n",
       "      <td>37.0</td>\n",
       "      <td>143987.0</td>\n",
       "      <td>74.0</td>\n",
       "      <td>0</td>\n",
       "    </tr>\n",
       "  </tbody>\n",
       "</table>\n",
       "</div>"
      ],
      "text/plain": [
       "                      Estimated_Revenue_Range  Total_Funding_Amount  \\\n",
       "Organization_Name                                                     \n",
       "Nana                                5500000.0            78959999.0   \n",
       "Retailo Technologies                      NaN            45000000.0   \n",
       "Lean Technologies                   5500000.0            36500000.0   \n",
       "Sary                              300000000.0           111957478.0   \n",
       "Tamara                                    NaN           116000000.0   \n",
       "\n",
       "                     Headquarters_Location  Founded_Date  Number_of_Founders  \\\n",
       "Organization_Name                                                              \n",
       "Nana                                Riyad           2020                 2.0   \n",
       "Retailo Technologies                Riyad           2020                 3.0   \n",
       "Lean Technologies                   Riyad           2019                 3.0   \n",
       "Sary                                Riyad           2018                 2.0   \n",
       "Tamara                              Riyad           2020                 3.0   \n",
       "\n",
       "                     Funding_Stage  Number_Funding_Rounds  \\\n",
       "Organization_Name                                           \n",
       "Nana                   Undisclosed                    6.0   \n",
       "Retailo Technologies      Series A                    4.0   \n",
       "Lean Technologies         Series A                    4.0   \n",
       "Sary                      Series C                    4.0   \n",
       "Tamara                    Series A                    4.0   \n",
       "\n",
       "                      Number_of_Investors     Industry_Groups  Sector_Size  \\\n",
       "Organization_Name                                                            \n",
       "Nana                                 12.0     Food Delivery    42000000000   \n",
       "Retailo Technologies                 13.0          E-Commerce  13000000000   \n",
       "Lean Technologies                    13.0  Financial Services  13000000000   \n",
       "Sary                                 12.0          E-Commerce  13000000000   \n",
       "Tamara                                9.0  Financial Services  13000000000   \n",
       "\n",
       "                      Number_of_Employees  Visit_Duration  Bounce_Rate  \\\n",
       "Organization_Name                                                        \n",
       "Nana                                  376           561.0         58.0   \n",
       "Retailo Technologies                  751           652.0         66.0   \n",
       "Lean Technologies                      31           102.0         87.0   \n",
       "Sary                                  376          2567.0         40.0   \n",
       "Tamara                                 76           347.0         37.0   \n",
       "\n",
       "                      Monthly_Visits  Monthly_Visits_Growth  Exit_status  \n",
       "Organization_Name                                                         \n",
       "Nana                         80887.0                  -30.0            0  \n",
       "Retailo Technologies         22598.0                 1357.0            0  \n",
       "Lean Technologies             6677.0                  -45.0            0  \n",
       "Sary                         25286.0                  258.0            0  \n",
       "Tamara                      143987.0                   74.0            0  "
      ]
     },
     "execution_count": 6,
     "metadata": {},
     "output_type": "execute_result"
    }
   ],
   "source": [
    "x_cols = [c for c in df.columns if c != 'Exit_status']\n",
    "# set input matrix and target column\n",
    "X = df[x_cols]\n",
    "y = df['Exit_status']\n",
    "# show first rows of data\n",
    "df.head()"
   ]
  },
  {
   "cell_type": "code",
   "execution_count": 7,
   "id": "74d07398",
   "metadata": {},
   "outputs": [],
   "source": [
    "# data split train / test\n",
    "X_train, X_test, y_train, y_test = train_test_split(X, y, test_size = 0.4, random_state=9999)"
   ]
  },
  {
   "cell_type": "code",
   "execution_count": 8,
   "id": "bac0798f",
   "metadata": {},
   "outputs": [],
   "source": [
    "cont = ['Estimated_Revenue_Range', 'Total_Funding_Amount',\n",
    "       'Founded_Date','Number_of_Founders', \n",
    "       'Number_Funding_Rounds', 'Number_of_Investors', 'Sector_Size', \n",
    "        'Number_of_Employees','Visit_Duration','Bounce_Rate', 'Monthly_Visits', \n",
    "        'Monthly_Visits_Growth']\n",
    "\n",
    "cate = ['Headquarters_Location','Funding_Stage','Industry_Groups']"
   ]
  },
  {
   "cell_type": "code",
   "execution_count": 9,
   "id": "4c619b66",
   "metadata": {},
   "outputs": [
    {
     "name": "stdout",
     "output_type": "stream",
     "text": [
      "Estimated_Revenue_Range    5.500000e+06\n",
      "Total_Funding_Amount       1.199680e+06\n",
      "Founded_Date               2.017000e+03\n",
      "Number_of_Founders         2.000000e+00\n",
      "Number_Funding_Rounds      1.000000e+00\n",
      "Number_of_Investors        2.000000e+00\n",
      "Sector_Size                1.300000e+10\n",
      "Number_of_Employees        3.100000e+01\n",
      "Visit_Duration             2.910000e+02\n",
      "Bounce_Rate                5.000000e+01\n",
      "Monthly_Visits             3.107000e+03\n",
      "Monthly_Visits_Growth      3.500000e+00\n",
      "dtype: float64\n"
     ]
    }
   ],
   "source": [
    "train_median = X_train[cont].median()\n",
    "X_train[cont] = X_train[cont].fillna(train_median)\n",
    "print(train_median)"
   ]
  },
  {
   "cell_type": "code",
   "execution_count": 10,
   "id": "94fd99bf",
   "metadata": {},
   "outputs": [
    {
     "name": "stdout",
     "output_type": "stream",
     "text": [
      "{'Headquarters_Location': 'Riyadh ', 'Funding_Stage': 'Seed', 'Industry_Groups': 'E-Commerce'}\n"
     ]
    }
   ],
   "source": [
    "train_mode = dict(X_train[cate].mode().iloc[0])\n",
    "X_train[cate] = X_train[cate].fillna(train_mode)\n",
    "print(train_mode)"
   ]
  },
  {
   "cell_type": "code",
   "execution_count": 11,
   "id": "0e4b199b",
   "metadata": {},
   "outputs": [],
   "source": [
    "# Unifying Headquarters Location names\n",
    "dict_start = {'Headquarters_Location': {'Riyad ':'Riyadh',\n",
    "                                        'Riyad':'Riyadh',\n",
    "                                        'Riyadh ':'Riyadh',\n",
    "                                        'Jeddah ':'Jeddah',\n",
    "                                        'Jedda':'Jeddah',\n",
    "                                        'Sharqiyah':'Ash Sharqiyah',\n",
    "                                        'Sharqiyah ':'Ash Sharqiyah',\n",
    "                                        'Ash Sharqiyah ':'Ash Sharqiyah'}}\n",
    "X_train.replace(dict_start, inplace=True)"
   ]
  },
  {
   "cell_type": "code",
   "execution_count": 12,
   "id": "3d6b66f8",
   "metadata": {},
   "outputs": [],
   "source": [
    "#Classifying Funding Stage in to three stages\n",
    "dict_start2 = {'Funding_Stage': {'Angel ': 'Early Stage', \n",
    "                                 'Angel': 'Early Stage',\n",
    "                                 'Early Stage ': 'Early Stage',\n",
    "                                 'Pre-Seed ' : 'Early Stage', \n",
    "                                 'Pre-Seed' : 'Early Stage',\n",
    "                                 'Early Stage ': 'Early Stage',\n",
    "                                 'Seed ': 'Early Stage', \n",
    "                                 'Seed': 'Early Stage', \n",
    "                                 'Early Stage ': 'Early Stage',\n",
    "                                 'Series A ': 'Mid stage', \n",
    "                                 'Series A': 'Mid stage',\n",
    "                                 'Mid stage ': 'Mid stage',\n",
    "                                 'Series B ': 'Mid Stage',\n",
    "                                 'Series B': 'Mid stage',\n",
    "                                 'Sereis B': 'Mid stage',\n",
    "                                 'Mid stage ': 'Mid stage',\n",
    "                                 'Series C ': 'Late Stage',\n",
    "                                 'Series C': 'Late stage',\n",
    "                                 'Sereis C': 'Late stage',\n",
    "                                 'Late stage ': 'Late stage'}}\n",
    "X_train.replace(dict_start2, inplace=True)"
   ]
  },
  {
   "cell_type": "code",
   "execution_count": 13,
   "id": "4b0771e0",
   "metadata": {},
   "outputs": [],
   "source": [
    "#To replace 'Undisclosed' category by mode.\n",
    "X_train['Funding_Stage'] = X_train['Funding_Stage'].replace({'Undisclosed': np.NaN})\n",
    "X_train['Funding_Stage'] = X_train['Funding_Stage'].fillna(X_train['Funding_Stage'].value_counts().index[0])"
   ]
  },
  {
   "cell_type": "code",
   "execution_count": 14,
   "id": "d380ea59",
   "metadata": {},
   "outputs": [],
   "source": [
    "#Unifying Industry groups\n",
    "dict_start3 = {'Industry_Groups': {'Food Delivery  ': 'Food &Beverage ', \n",
    "                                   'Food Delivery ': 'Food &Beverage ',   \n",
    "                                   'FinTech ' : 'Financial Services', \n",
    "                                   'FinTech': 'Financial Services', \n",
    "                                   'FintTech' : 'Financial Services',\n",
    "                                   'Consultancy  ': 'Financial Services',\n",
    "                                   'Financial Services ' : 'Financial Services',\n",
    "                                   'Computer Vision ': 'Artificial Intelligence',\n",
    "                                   'Computer Vision': 'Artificial Intelligence',\n",
    "                                   'Data Visualization ': 'Artificial Intelligence', \n",
    "                                   'Data Visualization': 'Artificial Intelligence', \n",
    "                                   'Data Analysis': 'Artificial Intelligence',\n",
    "                                   'Blockchain ': 'Artificial Intelligence', \n",
    "                                   'Blockchain': 'Artificial Intelligence',\n",
    "                                   'Business Intelligence': 'Artificial Intelligence',\n",
    "                                   'Artificial Intelligenc' : 'Artificial Intelligence',\n",
    "                                   'Insurtech' : 'Artificial Intelligence',\n",
    "                                   'Recruitment ': 'Human Resources',\n",
    "                                   'Recruitment': 'Human Resources',\n",
    "                                   'Logistics ':'Travel&Toursim',\n",
    "                                   'Logistics':'Travel&Toursim',\n",
    "                                   'Transportation' : 'Travel&Toursim',\n",
    "                                   'Travel&Toursim ': 'Travel&Toursim',\n",
    "                                   'Travel&Tourism ': 'Travel&Toursim',\n",
    "                                   'Food&Beverage ' : 'FMCG',\n",
    "                                   'Food &Beverage ' : 'FMCG',\n",
    "                                   'Consumer Services': 'FMCG', \n",
    "                                   'Healthtech' : 'HealthTech',\n",
    "                                   'HealthTech ' : 'HealthTech',\n",
    "                                   'Financial services ': 'Financial Services',\n",
    "                                   'Financial Services ': 'Financial Services', \n",
    "                                    'Real Estate ': 'Real Estate'}}\n",
    "X_train.replace(dict_start3, inplace=True)"
   ]
  },
  {
   "cell_type": "code",
   "execution_count": 15,
   "id": "994dda58",
   "metadata": {
    "scrolled": false
   },
   "outputs": [
    {
     "name": "stdout",
     "output_type": "stream",
     "text": [
      "capping the  Estimated_Revenue_Range\n",
      "capping the  Total_Funding_Amount\n",
      "capping the  Headquarters_Location\n",
      "capping the  Founded_Date\n",
      "capping the  Number_of_Founders\n",
      "capping the  Funding_Stage\n",
      "capping the  Number_Funding_Rounds\n",
      "capping the  Number_of_Investors\n",
      "capping the  Industry_Groups\n",
      "capping the  Sector_Size\n",
      "capping the  Number_of_Employees\n",
      "capping the  Visit_Duration\n",
      "capping the  Bounce_Rate\n",
      "capping the  Monthly_Visits\n",
      "capping the  Monthly_Visits_Growth\n"
     ]
    }
   ],
   "source": [
    "def cap_data(df):\n",
    "    for col in df.columns:\n",
    "        print(\"capping the \",col)\n",
    "        if (((df[col].dtype)=='float64') | ((df[col].dtype)=='int64')):\n",
    "            outliers = stats.zscore(df[col])\n",
    "            df[col][outliers < -3] = statistics.median(df[col])\n",
    "            df[col][outliers >  3] = statistics.median(df[col])\n",
    "        else:\n",
    "            df[col]=df[col]\n",
    "    return df\n",
    "\n",
    "X_train=cap_data(X_train)"
   ]
  },
  {
   "cell_type": "code",
   "execution_count": 16,
   "id": "cc861a98",
   "metadata": {},
   "outputs": [],
   "source": [
    "# convert categoricals\n",
    "encoders = {}\n",
    "for column in ['Headquarters_Location', 'Funding_Stage', 'Industry_Groups']:\n",
    "    categorical_convert = LabelEncoder()\n",
    "    X_train[column] = categorical_convert.fit_transform(X_train[column])\n",
    "    encoders[column] = categorical_convert"
   ]
  },
  {
   "cell_type": "code",
   "execution_count": 17,
   "id": "0e2cfa8d",
   "metadata": {},
   "outputs": [],
   "source": [
    "# Scale the data\n",
    "PredictorScaler=StandardScaler()\n",
    "\n",
    "# Storing the fit object for later reference\n",
    "PredictorScalerFit=PredictorScaler.fit(X_train)\n",
    "\n",
    "# Generating the standardized values of X\n",
    "X_train=PredictorScalerFit.transform(X_train)"
   ]
  },
  {
   "cell_type": "code",
   "execution_count": 18,
   "id": "94a4e786",
   "metadata": {},
   "outputs": [],
   "source": [
    "# Oversample training data\n",
    "sm = SMOTE(random_state = 2)\n",
    "X_train, y_train = sm.fit_resample(X_train, y_train.ravel())"
   ]
  },
  {
   "cell_type": "code",
   "execution_count": 19,
   "id": "48f807bc",
   "metadata": {},
   "outputs": [],
   "source": [
    "#XGBoost\n",
    "XGB = XGBClassifier(max_depth=2, learning_rate=0.01, n_estimators=200, objective='binary:logistic', booster='gbtree')\n",
    "XGB = XGB.fit(X_train, y_train)"
   ]
  },
  {
   "cell_type": "code",
   "execution_count": 20,
   "id": "a349f401",
   "metadata": {},
   "outputs": [
    {
     "data": {
      "text/plain": [
       "['./xgboost.joblib']"
      ]
     },
     "execution_count": 20,
     "metadata": {},
     "output_type": "execute_result"
    }
   ],
   "source": [
    "# save preprocessing objects and RF algorithm\n",
    "\n",
    "joblib.dump(train_mode, \"./train_mode.joblib\", compress=True)\n",
    "joblib.dump(train_median, \"./train_median.joblib\", compress=True)\n",
    "joblib.dump(dict_start, \"./dict_start.joblib\", compress=True)\n",
    "joblib.dump(dict_start2, \"./dict_start2.joblib\", compress=True)\n",
    "joblib.dump(dict_start3, \"./dict_start3.joblib\", compress=True)\n",
    "joblib.dump(encoders, \"./encoders.joblib\", compress=True)\n",
    "joblib.dump(X_train, \"./X_train.joblib\", compress=True)\n",
    "joblib.dump(XGB, \"./xgboost.joblib\", compress=True)"
   ]
  }
 ],
 "metadata": {
  "kernelspec": {
   "display_name": "venv",
   "language": "python",
   "name": "venv"
  },
  "language_info": {
   "codemirror_mode": {
    "name": "ipython",
    "version": 3
   },
   "file_extension": ".py",
   "mimetype": "text/x-python",
   "name": "python",
   "nbconvert_exporter": "python",
   "pygments_lexer": "ipython3",
   "version": "3.9.12"
  }
 },
 "nbformat": 4,
 "nbformat_minor": 5
}
