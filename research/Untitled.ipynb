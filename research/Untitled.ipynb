{
 "cells": [
  {
   "cell_type": "code",
   "execution_count": 1,
   "id": "d5349bee",
   "metadata": {},
   "outputs": [
    {
     "name": "stdout",
     "output_type": "stream",
     "text": [
      "Requirement already satisfied: numpy in c:\\users\\rs7am\\anaconda3\\lib\\site-packages (1.21.5)\n",
      "Requirement already satisfied: pandas in c:\\users\\rs7am\\anaconda3\\lib\\site-packages (1.4.2)\n",
      "Requirement already satisfied: sklearn in c:\\users\\rs7am\\anaconda3\\lib\\site-packages (0.0)\n",
      "Requirement already satisfied: joblib in c:\\users\\rs7am\\anaconda3\\lib\\site-packages (1.1.0)\n",
      "Requirement already satisfied: pytz>=2020.1 in c:\\users\\rs7am\\anaconda3\\lib\\site-packages (from pandas) (2021.3)\n",
      "Requirement already satisfied: python-dateutil>=2.8.1 in c:\\users\\rs7am\\anaconda3\\lib\\site-packages (from pandas) (2.8.2)\n",
      "Requirement already satisfied: scikit-learn in c:\\users\\rs7am\\anaconda3\\lib\\site-packages (from sklearn) (1.1.1)\n",
      "Requirement already satisfied: six>=1.5 in c:\\users\\rs7am\\anaconda3\\lib\\site-packages (from python-dateutil>=2.8.1->pandas) (1.16.0)\n",
      "Requirement already satisfied: threadpoolctl>=2.0.0 in c:\\users\\rs7am\\anaconda3\\lib\\site-packages (from scikit-learn->sklearn) (2.2.0)\n",
      "Requirement already satisfied: scipy>=1.3.2 in c:\\users\\rs7am\\anaconda3\\lib\\site-packages (from scikit-learn->sklearn) (1.7.3)\n",
      "Note: you may need to restart the kernel to use updated packages.\n"
     ]
    }
   ],
   "source": [
    "pip install numpy pandas sklearn joblib"
   ]
  },
  {
   "cell_type": "code",
   "execution_count": 2,
   "id": "dc93df0d",
   "metadata": {},
   "outputs": [],
   "source": [
    "import json # will be needed for saving preprocessing details\n",
    "import numpy as np # for data manipulation\n",
    "import pandas as pd # for data manipulation\n",
    "from sklearn.model_selection import train_test_split # will be used for data split\n",
    "from sklearn.preprocessing import LabelEncoder # for preprocessing\n",
    "from sklearn.ensemble import RandomForestClassifier # for training the algorithm\n",
    "from sklearn.ensemble import ExtraTreesClassifier # for training the algorithm\n",
    "import joblib # for saving algorithm and preprocessing objects"
   ]
  },
  {
   "cell_type": "code",
   "execution_count": 3,
   "id": "6b1aaa37",
   "metadata": {},
   "outputs": [],
   "source": [
    "import statistics\n",
    "from scipy import stats\n",
    "from dmba import plotDecisionTree, classificationSummary, regressionSummary\n",
    "from imblearn.over_sampling import SMOTE\n",
    "from collections import Counter\n",
    "from array import array\n",
    "from sklearn import preprocessing, svm , metrics , tree\n",
    "from sklearn.model_selection import train_test_split , cross_val_score , GridSearchCV\n",
    "from sklearn.datasets import make_classification\n",
    "from sklearn.preprocessing import StandardScaler\n",
    "from xgboost import XGBClassifier\n",
    "import warnings\n",
    "warnings.filterwarnings('ignore')"
   ]
  },
  {
   "cell_type": "code",
   "execution_count": 4,
   "id": "80fe755c",
   "metadata": {},
   "outputs": [],
   "source": [
    "# load dataset\n",
    "start_ups = pd.read_csv('https://raw.githubusercontent.com/R7amza/project1/R7amza-dataset-1/11111.csv', skipinitialspace=True)\n",
    "start_ups.set_index('Organization_Name', inplace=True)\n",
    "#x_cols = [c for c in df.columns if c != 'Exit_status']\n",
    "# set input matrix and target column\n",
    "#X = df[x_cols]\n",
    "#y = df['Exit_status']\n",
    "# show first rows of data\n",
    "#df.head()"
   ]
  },
  {
   "cell_type": "code",
   "execution_count": 5,
   "id": "51f3fb6d",
   "metadata": {},
   "outputs": [],
   "source": [
    "# Replacing missing values\n",
    "start_ups['Estimated_Revenue_Range'] = start_ups['Estimated_Revenue_Range'].replace({np.NaN :'5500000'})\n",
    "start_ups['Total_Funding_Amount'] = start_ups['Total_Funding_Amount'].replace({np.NaN :'800000'})\n",
    "start_ups['Number_of_Founders'] = start_ups['Number_of_Founders'].replace({np.NaN :'2'})\n",
    "start_ups['Number_Funding_Rounds'] = start_ups['Number_Funding_Rounds'].replace({np.NaN :'1'})\n",
    "start_ups['Number_of_Investors'] = start_ups['Number_of_Investors'].replace({np.NaN :'1'})\n",
    "start_ups['Number_of_Apps'] = start_ups['Number_of_Apps'].replace({np.NaN :'1'})\n",
    "start_ups['Visit_Duration'] = start_ups['Visit_Duration'].replace({np.NaN :'178'})\n",
    "start_ups['Bounce_Rate'] = start_ups['Bounce_Rate'].replace({np.NaN :'66.56%'})\n",
    "start_ups['Monthly_Visits'] = start_ups['Monthly_Visits'].replace({np.NaN :'1606'})\n",
    "start_ups['Monthly_Visits_Growth'] = start_ups['Monthly_Visits_Growth'].replace({np.NaN :'-7.12%'})\n",
    "start_ups['Exit_status'] = start_ups['Exit_status'].replace({np.NaN :'0'})"
   ]
  },
  {
   "cell_type": "code",
   "execution_count": 6,
   "id": "0e4b199b",
   "metadata": {},
   "outputs": [],
   "source": [
    "# Unifying Headquarters Location names\n",
    "dict_start = {'Headquarters_Location': {'Riyad ':'Riyadh',\n",
    "                                        'Riyad':'Riyadh',\n",
    "                                        'Riyadh ':'Riyadh',\n",
    "                                        'Jeddah ':'Jeddah',\n",
    "                                        'Jedda':'Jeddah',\n",
    "                                        'Sharqiyah':'Ash Sharqiyah',\n",
    "                                        'Sharqiyah ':'Ash Sharqiyah',\n",
    "                                        'Ash Sharqiyah ':'Ash Sharqiyah'}}\n",
    "start_ups.replace(dict_start, inplace=True)"
   ]
  },
  {
   "cell_type": "code",
   "execution_count": 7,
   "id": "3d6b66f8",
   "metadata": {},
   "outputs": [],
   "source": [
    "#Classifying Funding Stage in to three stages\n",
    "dict_start2 = {'Funding_Stage': {'Angel ': 'Early Stage', \n",
    "                                 'Angel': 'Early Stage',\n",
    "                                 'Early Stage ': 'Early Stage',\n",
    "                                 'Pre-Seed ' : 'Early Stage', \n",
    "                                 'Pre-Seed' : 'Early Stage',\n",
    "                                 'Early Stage ': 'Early Stage',\n",
    "                                 'Seed ': 'Early Stage', \n",
    "                                 'Seed': 'Early Stage', \n",
    "                                 'Early Stage ': 'Early Stage',\n",
    "                                 'Series A ': 'Mid stage', \n",
    "                                 'Series A': 'Mid stage',\n",
    "                                 'Mid stage ': 'Mid stage',\n",
    "                                 'Series B ': 'Mid Stage',\n",
    "                                 'Series B': 'Mid stage',\n",
    "                                 'Sereis B': 'Mid stage',\n",
    "                                 'Mid stage ': 'Mid stage',\n",
    "                                 'Series C ': 'Late Stage',\n",
    "                                 'Series C': 'Late stage',\n",
    "                                 'Sereis C': 'Late stage',\n",
    "                                 'Late stage ': 'Late stage'}}\n",
    "start_ups.replace(dict_start2, inplace=True)"
   ]
  },
  {
   "cell_type": "code",
   "execution_count": 8,
   "id": "4b0771e0",
   "metadata": {},
   "outputs": [],
   "source": [
    "#To replace 'Undisclosed' category by mode.\n",
    "start_ups['Funding_Stage'] = start_ups['Funding_Stage'].replace({'Undisclosed': np.NaN})\n",
    "start_ups['Funding_Stage'] = start_ups['Funding_Stage'].fillna(start_ups['Funding_Stage'].value_counts().index[0])"
   ]
  },
  {
   "cell_type": "code",
   "execution_count": 9,
   "id": "d380ea59",
   "metadata": {},
   "outputs": [],
   "source": [
    "#Unifying Industry groups\n",
    "dict_start3 = {'Industry_Groups': {'Food Delivery  ': 'Food &Beverage ', \n",
    "                                   'Food Delivery ': 'Food &Beverage ',   \n",
    "                                   'FinTech ' : 'Financial Services', \n",
    "                                   'FinTech': 'Financial Services', \n",
    "                                   'FintTech' : 'Financial Services',\n",
    "                                   'Consultancy  ': 'Financial Services',\n",
    "                                   'Financial Services ' : 'Financial Services',\n",
    "                                   'Computer Vision ': 'Artificial Intelligence',\n",
    "                                   'Computer Vision': 'Artificial Intelligence',\n",
    "                                   'Data Visualization ': 'Artificial Intelligence', \n",
    "                                   'Data Visualization': 'Artificial Intelligence', \n",
    "                                   'Data Analysis': 'Artificial Intelligence',\n",
    "                                   'Blockchain ': 'Artificial Intelligence', \n",
    "                                   'Blockchain': 'Artificial Intelligence',\n",
    "                                   'Business Intelligence': 'Artificial Intelligence',\n",
    "                                   'Artificial Intelligenc' : 'Artificial Intelligence',\n",
    "                                   'Insurtech' : 'Artificial Intelligence',\n",
    "                                   'Recruitment ': 'Human Resources',\n",
    "                                   'Recruitment': 'Human Resources',\n",
    "                                   'Logistics ':'Travel&Toursim',\n",
    "                                   'Logistics':'Travel&Toursim',\n",
    "                                   'Transportation' : 'Travel&Toursim',\n",
    "                                   'Travel&Toursim ': 'Travel&Toursim',\n",
    "                                   'Travel&Tourism ': 'Travel&Toursim',\n",
    "                                   'Food&Beverage ' : 'FMCG',\n",
    "                                   'Food &Beverage ' : 'FMCG',\n",
    "                                   'Consumer Services': 'FMCG', \n",
    "                                   'Healthtech' : 'HealthTech',\n",
    "                                   'HealthTech ' : 'HealthTech',\n",
    "                                   'Financial services ': 'Financial Services',\n",
    "                                   'Financial Services ': 'Financial Services', \n",
    "                                    'Real Estate ': 'Real Estate'}}\n",
    "start_ups.replace(dict_start3, inplace=True)"
   ]
  },
  {
   "cell_type": "code",
   "execution_count": 10,
   "id": "8428d692",
   "metadata": {},
   "outputs": [
    {
     "data": {
      "text/plain": [
       "(451, 17)"
      ]
     },
     "execution_count": 10,
     "metadata": {},
     "output_type": "execute_result"
    }
   ],
   "source": [
    "start_ups = start_ups.drop(columns = ['Description', 'Funding_Status', 'Industries', 'Downloads_Last_30_Days'])\n",
    "start_ups_14 = start_ups.query('Founded_Date >2014')\n",
    "start_ups_14.shape"
   ]
  },
  {
   "cell_type": "code",
   "execution_count": 11,
   "id": "90527e5e",
   "metadata": {},
   "outputs": [],
   "source": [
    "# Correcting variables type\n",
    "start_ups_14['Bounce_Rate'] = start_ups_14['Bounce_Rate'].str.rstrip(\"%\")\n",
    "start_ups_14['Monthly_Visits_Growth'] = start_ups_14['Monthly_Visits_Growth'].str.rstrip(\"%\")\n",
    "start_ups_14['Estimated_Revenue_Range'] = start_ups_14['Estimated_Revenue_Range'].astype(float)\n",
    "start_ups_14['Total_Funding_Amount'] = start_ups_14['Total_Funding_Amount'].astype(float)\n",
    "start_ups_14['Number_of_Founders'] = start_ups_14['Number_of_Founders'].astype(int)\n",
    "start_ups_14['Number_Funding_Rounds'] = start_ups_14['Number_Funding_Rounds'].astype(int)\n",
    "start_ups_14['Number_of_Investors'] = start_ups_14['Number_of_Investors'].astype(int)\n",
    "start_ups_14['Number_of_Apps'] = start_ups_14['Number_of_Apps'].astype(int)\n",
    "start_ups_14['Visit_Duration'] = start_ups_14['Visit_Duration'].astype(float)\n",
    "start_ups_14['Bounce_Rate'] = start_ups_14['Bounce_Rate'].astype(float)\n",
    "start_ups_14['Monthly_Visits'] = start_ups_14['Monthly_Visits'].astype(float)\n",
    "start_ups_14['Monthly_Visits_Growth'] = start_ups_14['Monthly_Visits_Growth'].astype(float)\n",
    "start_ups_14['Sector_Size'] = start_ups_14['Sector_Size'].astype(float)\n",
    "start_ups_14['Exit_status'] = start_ups_14['Exit_status'].astype(int)"
   ]
  },
  {
   "cell_type": "code",
   "execution_count": 12,
   "id": "0423708d",
   "metadata": {},
   "outputs": [],
   "source": [
    "#outliers treatment\n",
    "start_ups_14['Estimated_Revenue_Range'] = start_ups_14['Estimated_Revenue_Range'].astype('int64')\n",
    "start_ups_14['Estimated_Revenue_Range_z'] = stats.zscore(start_ups_14['Estimated_Revenue_Range'])\n",
    "\n",
    "start_ups_14['Total_Funding_Amount'] = start_ups_14['Total_Funding_Amount'].astype('int64')\n",
    "start_ups_14['Total_Funding_Amount_z'] = stats.zscore(start_ups_14['Total_Funding_Amount'])\n",
    "\n",
    "start_ups_14['Number_of_Founders'] = start_ups_14['Number_of_Founders'].astype('int64')\n",
    "start_ups_14['Number_of_Founders_z'] = stats.zscore(start_ups_14['Number_of_Founders'])\n",
    "\n",
    "start_ups_14['Number_Funding_Rounds'] = start_ups_14['Number_Funding_Rounds'].astype('int64')\n",
    "start_ups_14['Number_Funding_Rounds_z'] = stats.zscore(start_ups_14['Number_Funding_Rounds'])\n",
    "\n",
    "start_ups_14['Number_of_Investors'] = start_ups_14['Number_of_Investors'].astype('int64')\n",
    "start_ups_14['Number_of_Investors_z'] = stats.zscore(start_ups_14['Number_of_Investors'])\n",
    "\n",
    "start_ups_14['Sector_Size'] = start_ups_14['Sector_Size'].astype('int64')\n",
    "start_ups_14['Sector_Size_z'] = stats.zscore(start_ups_14['Sector_Size'])\n",
    "\n",
    "start_ups_14['Number_of_Employees'] = start_ups_14['Number_of_Employees'].astype('int64')\n",
    "start_ups_14['Number_of_Employees_z'] = stats.zscore(start_ups_14['Number_of_Employees'])\n",
    "\n",
    "start_ups_14['Number_of_Apps'] = start_ups_14['Number_of_Apps'].astype('int64')\n",
    "start_ups_14['Number_of_Apps_z'] = stats.zscore(start_ups_14['Number_of_Apps'])\n",
    "\n",
    "start_ups_14['Visit_Duration'] = start_ups_14['Visit_Duration'].astype('int64')\n",
    "start_ups_14['Visit_Duration_z'] = stats.zscore(start_ups_14['Visit_Duration'])\n",
    "\n",
    "start_ups_14['Monthly_Visits'] = start_ups_14['Monthly_Visits'].astype('int64')\n",
    "start_ups_14['Monthly_Visits_z'] = stats.zscore(start_ups_14['Monthly_Visits'])\n",
    "\n",
    "start_ups_14['Bounce_Rate'] = start_ups_14['Bounce_Rate'].astype('int64')\n",
    "start_ups_14['Bounce_Rate_z'] = stats.zscore(start_ups_14['Bounce_Rate'])\n",
    "\n",
    "start_ups_14['Monthly_Visits_Growth'] = start_ups_14['Monthly_Visits_Growth'].astype('int64')\n",
    "start_ups_14['Monthly_Visits_Growth_z'] = stats.zscore(start_ups_14['Monthly_Visits_Growth'])"
   ]
  },
  {
   "cell_type": "code",
   "execution_count": 13,
   "id": "5d38a7f1",
   "metadata": {},
   "outputs": [],
   "source": [
    "# Replacing outliers\n",
    "start_ups_14['Estimated_Revenue_Range'][(start_ups_14['Estimated_Revenue_Range_z'] >3) | (start_ups_14['Estimated_Revenue_Range_z'] <-3)] = statistics.median(start_ups_14['Estimated_Revenue_Range']) \n",
    "\n",
    "start_ups_14['Total_Funding_Amount'][(start_ups_14['Total_Funding_Amount_z'] >3) | (start_ups_14['Total_Funding_Amount_z'] <-3)] = statistics.median(start_ups_14['Total_Funding_Amount'])\n",
    "\n",
    "start_ups_14['Number_of_Founders'][(start_ups_14['Number_of_Founders_z'] >3) | (start_ups_14['Number_of_Founders_z'] <-3)] = statistics.median(start_ups_14['Number_of_Founders'])\n",
    "\n",
    "start_ups_14['Number_Funding_Rounds'][(start_ups_14['Number_Funding_Rounds_z'] >3) | (start_ups_14['Number_Funding_Rounds_z'] <-3)] = statistics.median(start_ups_14['Number_Funding_Rounds'])\n",
    "\n",
    "start_ups_14['Number_of_Investors'][(start_ups_14['Number_of_Investors_z'] >3) | (start_ups_14['Number_of_Investors_z'] <-3)] = statistics.median(start_ups_14['Number_of_Investors'])\n",
    "\n",
    "start_ups_14['Sector_Size'][(start_ups_14['Sector_Size_z'] >3) | (start_ups_14['Sector_Size_z'] <-3)] = statistics.median(start_ups_14['Sector_Size'])\n",
    "\n",
    "start_ups_14['Number_of_Employees'][(start_ups_14['Number_of_Employees_z'] >3) | (start_ups_14['Number_of_Employees_z'] <-3)] = statistics.median(start_ups_14['Number_of_Employees'])\n",
    "\n",
    "start_ups_14['Number_of_Apps'][(start_ups_14['Number_of_Apps_z'] >3) | (start_ups_14['Number_of_Apps_z'] <-3)] = statistics.median(start_ups_14['Number_of_Apps'])\n",
    "\n",
    "start_ups_14['Visit_Duration'][(start_ups_14['Visit_Duration_z'] >3) | (start_ups_14['Visit_Duration_z'] <-3)] = statistics.median(start_ups_14['Visit_Duration'])\n",
    "\n",
    "start_ups_14['Monthly_Visits'][(start_ups_14['Monthly_Visits_z'] >3) | (start_ups_14['Monthly_Visits_z'] <-3)] = statistics.median(start_ups_14['Monthly_Visits'])\n",
    "\n",
    "start_ups_14['Bounce_Rate'][(start_ups_14['Bounce_Rate_z'] >3) | (start_ups_14['Bounce_Rate_z'] <-3)] = statistics.median(start_ups_14['Bounce_Rate'])\n",
    "\n",
    "start_ups_14['Monthly_Visits_Growth'][(start_ups_14['Monthly_Visits_Growth_z'] >3) | (start_ups_14['Monthly_Visits_Growth_z'] <-3)] = statistics.median(start_ups_14['Monthly_Visits_Growth'])"
   ]
  },
  {
   "cell_type": "code",
   "execution_count": 14,
   "id": "4148a214",
   "metadata": {},
   "outputs": [],
   "source": [
    "start_ups_14 = start_ups_14[['Estimated_Revenue_Range', 'Total_Funding_Amount',\n",
    "       'Headquarters_Location', 'Founded_Date', 'Number_of_Founders',\n",
    "       'Funding_Stage', 'Number_Funding_Rounds', 'Number_of_Investors',\n",
    "       'Industry_Groups', 'Sector_Size', 'Number_of_Employees',\n",
    "       'Number_of_Apps', 'Visit_Duration', 'Bounce_Rate', 'Monthly_Visits',\n",
    "       'Monthly_Visits_Growth', 'Exit_status']]"
   ]
  },
  {
   "cell_type": "code",
   "execution_count": 15,
   "id": "d030c242",
   "metadata": {},
   "outputs": [],
   "source": [
    "start_ups_14 = pd.get_dummies (start_ups_14, columns=['Headquarters_Location', 'Funding_Stage', 'Industry_Groups'])"
   ]
  },
  {
   "cell_type": "code",
   "execution_count": 16,
   "id": "180cd8e6",
   "metadata": {},
   "outputs": [],
   "source": [
    "predictors = ['Estimated_Revenue_Range', 'Total_Funding_Amount', 'Founded_Date',\n",
    "       'Number_of_Founders', 'Number_Funding_Rounds', 'Number_of_Investors',\n",
    "       'Sector_Size', 'Number_of_Employees', 'Number_of_Apps',\n",
    "       'Visit_Duration', 'Bounce_Rate', 'Monthly_Visits',\n",
    "       'Monthly_Visits_Growth', \n",
    "       'Headquarters_Location_Al Qasim ',\n",
    "       'Headquarters_Location_Ash Sharqiyah',\n",
    "       'Headquarters_Location_Asir Province', 'Headquarters_Location_Hail',\n",
    "       'Headquarters_Location_Jeddah', 'Headquarters_Location_Jizan',\n",
    "       'Headquarters_Location_Riyadh', 'Funding_Stage_Early Stage',\n",
    "       'Funding_Stage_Late stage', 'Funding_Stage_Mid stage',\n",
    "       'Industry_Groups_Artificial Intelligence', 'Industry_Groups_E-Commerce',\n",
    "       'Industry_Groups_EduTech', 'Industry_Groups_Energy',\n",
    "       'Industry_Groups_FMCG', 'Industry_Groups_Financial Services',\n",
    "       'Industry_Groups_Food &Beverage ', 'Industry_Groups_HealthTech',\n",
    "       'Industry_Groups_Human Resources', 'Industry_Groups_IT',\n",
    "       'Industry_Groups_Media&Entertainment', 'Industry_Groups_Real Estate',\n",
    "       'Industry_Groups_Sales&Marketing', 'Industry_Groups_Travel&Toursim']"
   ]
  },
  {
   "cell_type": "code",
   "execution_count": 17,
   "id": "0e2cfa8d",
   "metadata": {},
   "outputs": [],
   "source": [
    "outcome = 'Exit_status'\n",
    "\n",
    "X= start_ups_14[predictors]\n",
    "y= start_ups_14[outcome]\n",
    "\n",
    "# Scale the data\n",
    "PredictorScaler=StandardScaler()\n",
    "\n",
    "# Storing the fit object for later reference\n",
    "PredictorScalerFit=PredictorScaler.fit(X)\n",
    "\n",
    "# Generating the standardized values of X\n",
    "X=PredictorScalerFit.transform(X)\n",
    "\n",
    "X_train, X_test, y_train, y_test = train_test_split(X, y, test_size=0.4, random_state=0)"
   ]
  },
  {
   "cell_type": "code",
   "execution_count": 18,
   "id": "df214ab5",
   "metadata": {},
   "outputs": [],
   "source": [
    "# Oversample training data\n",
    "sm = SMOTE(random_state = 2)\n",
    "X_train, y_train = sm.fit_resample(X_train, y_train.ravel())"
   ]
  },
  {
   "cell_type": "code",
   "execution_count": 22,
   "id": "48f807bc",
   "metadata": {},
   "outputs": [],
   "source": [
    "#XGBoost\n",
    "XGB = XGBClassifier(max_depth=2, learning_rate=0.01, n_estimators=200, objective='binary:logistic', booster='gbtree')\n",
    "XGB = XGB.fit(X_train, y_train)\n",
    "XGB1 = XGB.predict(X_test)"
   ]
  },
  {
   "cell_type": "code",
   "execution_count": null,
   "id": "5b70a95b",
   "metadata": {},
   "outputs": [],
   "source": [
    "# save preprocessing objects and RF algorithm\n",
    "\n",
    "joblib.dump(dict_start, \"./dict_start.joblib\", compress=True)\n",
    "joblib.dump(dict_start2, \"./dict_start2.joblib\", compress=True)\n",
    "joblib.dump(dict_start3, \"./dict_start3.joblib\", compress=True)\n",
    "joblib.dump(start_ups, \"./start_ups.joblib\", compress=True)\n",
    "joblib.dump(start_ups_14, \"./start_ups_14.joblib\", compress=True)\n",
    "joblib.dump(encoders, \"./encoders.joblib\", compress=True)\n",
    "joblib.dump(XGB, \"./xgboost.joblib\", compress=True)"
   ]
  }
 ],
 "metadata": {
  "kernelspec": {
   "display_name": "venv",
   "language": "python",
   "name": "venv"
  },
  "language_info": {
   "codemirror_mode": {
    "name": "ipython",
    "version": 3
   },
   "file_extension": ".py",
   "mimetype": "text/x-python",
   "name": "python",
   "nbconvert_exporter": "python",
   "pygments_lexer": "ipython3",
   "version": "3.9.12"
  }
 },
 "nbformat": 4,
 "nbformat_minor": 5
}
